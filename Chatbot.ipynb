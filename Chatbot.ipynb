{
  "nbformat": 4,
  "nbformat_minor": 0,
  "metadata": {
    "colab": {
      "name": "Chatbot.ipynb",
      "provenance": [],
      "collapsed_sections": [],
      "mount_file_id": "1HoQW3_JYTCAuMtdOnk7eVE3JUW5ugC7T",
      "authorship_tag": "ABX9TyO/gkc7t9CsCPR8GC14npf/",
      "include_colab_link": true
    },
    "kernelspec": {
      "name": "python3",
      "display_name": "Python 3"
    },
    "language_info": {
      "name": "python"
    },
    "accelerator": "GPU"
  },
  "cells": [
    {
      "cell_type": "markdown",
      "metadata": {
        "id": "view-in-github",
        "colab_type": "text"
      },
      "source": [
        "<a href=\"https://colab.research.google.com/github/Rakesh-Nagaraju/Chatbot-using-RNN-and-NLP/blob/main/Chatbot.ipynb\" target=\"_parent\"><img src=\"https://colab.research.google.com/assets/colab-badge.svg\" alt=\"Open In Colab\"/></a>"
      ]
    },
    {
      "cell_type": "code",
      "metadata": {
        "colab": {
          "base_uri": "https://localhost:8080/"
        },
        "id": "Yom31gT8afRk",
        "outputId": "1e00c221-8d98-4354-cd53-8678e7cb8719"
      },
      "source": [
        "import nltk\n",
        "import numpy as np\n",
        "#nltk.download('punkt')\n",
        "from nltk.stem.porter import PorterStemmer\n",
        "stemmer = PorterStemmer()\n",
        "\n",
        "\n",
        "def tokenize(sentence):\n",
        "    return nltk.word_tokenize(sentence)\n",
        "\n",
        "def stem(word):\n",
        "    return stemmer.stem(word.lower())\n",
        "\n",
        "def bag_of_words(tokenized_sentence, all_words):\n",
        "    tokenized_sentence = [stem(w) for w in tokenized_sentence]\n",
        "\n",
        "    bag = np.zeros(len(all_words), dtype = np.float32)\n",
        "    for idx, w in enumerate(all_words):\n",
        "        if w in tokenized_sentence:\n",
        "            bag[idx] = 1.0\n",
        "    return bag"
      ],
      "execution_count": null,
      "outputs": [
        {
          "output_type": "stream",
          "text": [
            "[nltk_data] Downloading package punkt to /root/nltk_data...\n",
            "[nltk_data]   Unzipping tokenizers/punkt.zip.\n"
          ],
          "name": "stdout"
        }
      ]
    },
    {
      "cell_type": "code",
      "metadata": {
        "id": "rBZ6oVAoamUQ"
      },
      "source": [
        "import torch\n",
        "import torch.nn as nn \n",
        "\n",
        "class NeuralNet(nn.Module):\n",
        "    def __init__(self, input_size, hidden_size, num_classes):\n",
        "        super(NeuralNet, self).__init__()\n",
        "        self.l1 = nn.Linear(input_size, hidden_size)\n",
        "        \n",
        "        self.l2 = nn.Linear(hidden_size, hidden_size)\n",
        "        \n",
        "        self.l3 = nn.Linear(hidden_size, num_classes)\n",
        "        \n",
        "        self.relu = nn.ReLU()\n",
        "\n",
        "    def forward(self, x):\n",
        "        out = self.l1(x)\n",
        "        out = self.relu(out)\n",
        "        out = self.l2(out)\n",
        "        out = self.relu(out)\n",
        "        out = self.l3(out)\n",
        "        return out"
      ],
      "execution_count": null,
      "outputs": []
    },
    {
      "cell_type": "code",
      "metadata": {
        "colab": {
          "base_uri": "https://localhost:8080/"
        },
        "id": "lqJefIgSa9fJ",
        "outputId": "2aaefa10-2e52-4ec8-af44-08c855f326b5"
      },
      "source": [
        "\n",
        "import json\n",
        "\n",
        "import numpy as np \n",
        "\n",
        "import torch \n",
        "import torch.nn as nn\n",
        "from torch.utils.data import Dataset, DataLoader\n",
        "\n",
        "\n",
        "with open('/content/drive/MyDrive/Chatbot/intents.json','r') as f:\n",
        "    intents = json.load(f)\n",
        "\n",
        "all_words = []\n",
        "tags = []\n",
        "xy = []\n",
        "\n",
        "for intent in intents['intents']:\n",
        "    tag = intent['tag']\n",
        "    tags.append(tag)\n",
        "    for pattern in intent['patterns']:\n",
        "        w = tokenize(pattern)\n",
        "        all_words.extend(w)\n",
        "        xy.append((w, tag))\n",
        "\n",
        "ignore_words = ['?', '!', '.', ',']\n",
        "all_words = [stem(w) for w in all_words if w not in ignore_words]\n",
        "all_words = sorted(set(all_words))\n",
        "tags = sorted(set(tags))\n",
        "\n",
        "X_train = []\n",
        "y_train = []\n",
        "\n",
        "for (pattern_sentence, tag) in xy:\n",
        "    bag = bag_of_words(pattern_sentence, all_words)\n",
        "    X_train.append(bag)\n",
        "\n",
        "    label = tags.index(tag)\n",
        "    y_train.append(label)\n",
        "\n",
        "X_train = np.array(X_train)\n",
        "y_train = np.array(y_train)\n",
        "\n",
        "class ChatDataset(Dataset):\n",
        "    def __init__(self):\n",
        "        self.n_samples = len(X_train)\n",
        "        self.x_data = X_train\n",
        "        self.y_data = y_train\n",
        "\n",
        "    def __getitem__(self, index):\n",
        "        return self.x_data[index], self.y_data[index] \n",
        "    \n",
        "    def __len__(self):\n",
        "        return self.n_samples\n",
        "    \n",
        "batch_size = 8\n",
        "hidden_size = 8\n",
        "output_size = len(tags)\n",
        "input_size = len(X_train[0])\n",
        "\n",
        "learning_rate = 0.001\n",
        "num_epochs = 1000\n",
        "\n",
        "dataset = ChatDataset()\n",
        "train_loader = DataLoader(dataset = dataset, batch_size = batch_size, shuffle = True, num_workers = 2)\n",
        "\n",
        "device = torch.device('cuda' if torch.cuda.is_available() else 'cpu')\n",
        "model = NeuralNet(input_size, hidden_size, output_size).to(device)\n",
        "\n",
        "#loss, optimizer\n",
        "criterion = nn.CrossEntropyLoss()\n",
        "optimizer = torch.optim.Adam(model.parameters(), lr = learning_rate)\n",
        "\n",
        "for epoch in range(num_epochs):\n",
        "  for (words, labels) in train_loader:\n",
        "    words= words.to(device)\n",
        "    labels= labels.to(device)\n",
        "    \n",
        "    outputs = model(words)\n",
        "    loss = criterion(outputs, labels)\n",
        "\n",
        "    #backward pass\n",
        "    optimizer.zero_grad()\n",
        "    loss.backward()\n",
        "    optimizer.step()\n",
        "  if (epoch + 1) % 100 == 0:\n",
        "    print(f'epoch {epoch+1}/{num_epochs}, loss={loss.item():.4f}') \n",
        "print(f'final loss , loss={loss.item():.4f}') \n",
        "\n",
        "data = {\n",
        "    \"model_state\" : model.state_dict(),\n",
        "    \"input_size\" : input_size,\n",
        "    \"output_size\" : output_size,\n",
        "    \"hidden_size\" : hidden_size,\n",
        "    \"all_words\" : all_words,\n",
        "    \"tags\" : tags\n",
        "}\n",
        "\n",
        "File = \"/content/drive/MyDrive/Chatbot/data.pth\"\n",
        "torch.save(data, File)\n",
        "print(f'Training Complete. File save to {File}')"
      ],
      "execution_count": null,
      "outputs": [
        {
          "output_type": "stream",
          "text": [
            "epoch 100/1000, loss=0.6743\n",
            "epoch 200/1000, loss=0.4504\n",
            "epoch 300/1000, loss=0.0289\n",
            "epoch 400/1000, loss=0.0082\n",
            "epoch 500/1000, loss=0.0052\n",
            "epoch 600/1000, loss=0.0018\n",
            "epoch 700/1000, loss=0.0012\n",
            "epoch 800/1000, loss=0.0012\n",
            "epoch 900/1000, loss=0.0006\n",
            "epoch 1000/1000, loss=0.0003\n",
            "final loss , loss=0.0003\n",
            "Training Complete. File save to /content/drive/MyDrive/Chatbot/data.pth\n"
          ],
          "name": "stdout"
        }
      ]
    },
    {
      "cell_type": "code",
      "metadata": {
        "colab": {
          "base_uri": "https://localhost:8080/"
        },
        "id": "5YhJzBjhzJOO",
        "outputId": "84e76176-26cf-4802-b1c6-40fa1af6e646"
      },
      "source": [
        "import random\n",
        "import json\n",
        "import torch\n",
        "\n",
        "device = torch.device('cuda' if torch.cuda.is_available() else 'cpu')\n",
        "\n",
        "with open('/content/drive/MyDrive/Chatbot/intents.json', 'r') as f:\n",
        "  intents = json.load(f)\n",
        "\n",
        "File  = \"/content/drive/MyDrive/Chatbot/data.pth\"\n",
        "data = torch.load(File)\n",
        "\n",
        "input_size = data[\"input_size\"]\n",
        "output_size = data[\"output_size\"]\n",
        "hidden_size = data[\"hidden_size\"]\n",
        "all_words = data[\"all_words\"]\n",
        "tags = data[\"tags\"]\n",
        "model_state = data[\"model_state\"]\n",
        "\n",
        "model = NeuralNet(input_size, hidden_size, output_size).to(device)\n",
        "model.load_state_dict(model_state)\n",
        "model.eval()\n",
        "\n",
        "bot_name = \"Alexa_typo\"\n",
        "print(\"Let's Chat! type 'quit' to exit\")\n",
        "while True:\n",
        "  sentence = input(\"You: \")\n",
        "  if sentence == \"quit\":\n",
        "    break\n",
        "  sentence = tokenize(sentence)\n",
        "  x = bag_of_words(sentence, all_words)\n",
        "  x = x.reshape(1, x.shape[0])\n",
        "  x = torch.from_numpy(x).to(device)\n",
        "\n",
        "  output = model(x).to(device)\n",
        "  _, predicted = torch.max(output, dim=1)\n",
        "  tag = tags[predicted.item()]\n",
        "\n",
        "  probs = torch.softmax(output, dim=1)\n",
        "  prob = probs[0][predicted.item()]\n",
        "\n",
        "  if prob.item() > 0.75:\n",
        "    for intent in intents[\"intents\"]:\n",
        "      if tag == intent[\"tag\"]:\n",
        "        print(f\"{bot_name}: {random.choice(intent['responses'])} \") \n",
        "  else:\n",
        "    print(f\"{bot_name}: I do not Understand!!! \")"
      ],
      "execution_count": null,
      "outputs": [
        {
          "output_type": "stream",
          "text": [
            "Let's Chat! type 'quit' to exit\n",
            "You: How is the weather today?\n",
            "Alexa_typo: Hi there, what can I do for you? \n",
            "You: tell me a joke\n",
            "Alexa_typo: What did the buffalo say when his son left for college? Bison. \n",
            "You: quit\n"
          ],
          "name": "stdout"
        }
      ]
    }
  ]
}